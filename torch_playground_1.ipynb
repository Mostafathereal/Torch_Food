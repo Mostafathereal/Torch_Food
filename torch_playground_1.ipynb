{
 "cells": [
  {
   "cell_type": "code",
   "execution_count": 1,
   "metadata": {},
   "outputs": [],
   "source": [
    "import torch\n"
   ]
  },
  {
   "cell_type": "code",
   "execution_count": 10,
   "metadata": {},
   "outputs": [],
   "source": [
    "preds = torch.randn(8, 10)\n",
    "labels = torch.randn(8, 10)"
   ]
  },
  {
   "cell_type": "code",
   "execution_count": 3,
   "metadata": {},
   "outputs": [
    {
     "data": {
      "text/plain": [
       "tensor([[ 0.2967,  1.7389,  0.2479, -0.8435, -0.0268, -0.8259,  0.5907, -0.3661,\n",
       "         -1.0786, -0.0248],\n",
       "        [-1.7234, -0.8318, -1.2592,  0.2688,  1.1092,  0.2350, -0.7092,  0.9078,\n",
       "         -1.4971, -0.8229],\n",
       "        [-0.9867, -0.7950, -0.1503,  0.6377,  0.3903, -0.1820, -0.2927,  0.9099,\n",
       "         -0.1496, -2.0902],\n",
       "        [-0.4166,  0.4482, -0.7649, -0.6753,  0.6549, -0.2892, -0.0805, -1.0760,\n",
       "         -0.5497,  0.6178],\n",
       "        [ 0.5024, -0.7958, -0.2565,  0.4422,  0.2421, -0.4794, -1.2037, -0.6637,\n",
       "          0.3174, -0.8463],\n",
       "        [ 1.5943,  0.3714, -0.9345,  1.6056,  0.6984, -1.8270,  0.4745,  0.6497,\n",
       "          0.0095, -0.0058],\n",
       "        [ 1.6419,  1.2815,  1.0251, -1.0087, -1.6677,  0.1495, -0.3303,  0.7886,\n",
       "         -1.1923,  0.6810],\n",
       "        [ 0.5807,  1.1755,  0.8780, -1.3531,  0.8851,  0.7522,  0.5255, -0.4733,\n",
       "          1.3070, -0.0999]])"
      ]
     },
     "execution_count": 3,
     "metadata": {},
     "output_type": "execute_result"
    }
   ],
   "source": [
    "preds\n"
   ]
  },
  {
   "cell_type": "code",
   "execution_count": 4,
   "metadata": {},
   "outputs": [
    {
     "data": {
      "text/plain": [
       "tensor([[-0.5383, -0.4254,  0.5914, -0.4942, -1.3288, -1.0176, -0.0682,  0.3663,\n",
       "         -0.5282, -0.7332],\n",
       "        [-1.7672,  0.7305, -2.3815, -0.6759, -1.1411, -0.0354,  0.3106, -0.3240,\n",
       "          2.4374, -0.2317],\n",
       "        [ 0.0701,  0.1986, -0.2034, -0.6799, -0.8546, -0.3476,  0.6685, -1.3948,\n",
       "          0.4506,  0.4123],\n",
       "        [-0.1590, -1.2423, -1.6610, -1.6216,  1.3666,  0.8015,  1.6308,  1.0917,\n",
       "          1.3276,  0.6587],\n",
       "        [-0.4405,  1.1324, -0.7819,  1.1010,  0.5706,  0.2329,  1.7211,  1.3693,\n",
       "         -0.9739, -0.7994],\n",
       "        [ 0.8371, -0.5496,  0.2894, -1.0958,  1.3498,  1.2655,  0.1429,  0.4705,\n",
       "          0.3973,  0.7991],\n",
       "        [-0.8727, -0.4829, -0.3322, -0.6711,  0.7867, -0.4086,  1.2614,  0.3787,\n",
       "          0.4500,  0.4072],\n",
       "        [ 0.1246,  0.3313,  0.5544, -1.2765, -0.8191, -2.0999, -1.1403, -0.3104,\n",
       "          0.3273,  1.2940]])"
      ]
     },
     "execution_count": 4,
     "metadata": {},
     "output_type": "execute_result"
    }
   ],
   "source": [
    "labels"
   ]
  },
  {
   "cell_type": "code",
   "execution_count": 11,
   "metadata": {},
   "outputs": [],
   "source": [
    "preds = torch.max(preds.data, 1)[1]\n",
    "labels = torch.max(labels.data, 1)[1]"
   ]
  },
  {
   "cell_type": "code",
   "execution_count": 12,
   "metadata": {},
   "outputs": [
    {
     "data": {
      "text/plain": [
       "tensor([5, 9, 3, 5, 1, 0, 3, 4])"
      ]
     },
     "execution_count": 12,
     "metadata": {},
     "output_type": "execute_result"
    }
   ],
   "source": [
    "preds"
   ]
  },
  {
   "cell_type": "code",
   "execution_count": 13,
   "metadata": {},
   "outputs": [],
   "source": [
    "L = (preds == labels)"
   ]
  },
  {
   "cell_type": "code",
   "execution_count": 14,
   "metadata": {},
   "outputs": [
    {
     "data": {
      "text/plain": [
       "tensor([False, False, False, False, False, False,  True,  True])"
      ]
     },
     "execution_count": 14,
     "metadata": {},
     "output_type": "execute_result"
    }
   ],
   "source": [
    "L"
   ]
  },
  {
   "cell_type": "code",
   "execution_count": 16,
   "metadata": {},
   "outputs": [
    {
     "data": {
      "text/plain": [
       "tensor(2)"
      ]
     },
     "execution_count": 16,
     "metadata": {},
     "output_type": "execute_result"
    }
   ],
   "source": [
    "L.sum()"
   ]
  },
  {
   "cell_type": "code",
   "execution_count": 17,
   "metadata": {},
   "outputs": [
    {
     "data": {
      "text/plain": [
       "2"
      ]
     },
     "execution_count": 17,
     "metadata": {},
     "output_type": "execute_result"
    }
   ],
   "source": [
    "L.sum().item()"
   ]
  },
  {
   "cell_type": "code",
   "execution_count": null,
   "metadata": {},
   "outputs": [],
   "source": []
  }
 ],
 "metadata": {
  "kernelspec": {
   "display_name": "Python 3",
   "language": "python",
   "name": "python3"
  },
  "language_info": {
   "codemirror_mode": {
    "name": "ipython",
    "version": 3
   },
   "file_extension": ".py",
   "mimetype": "text/x-python",
   "name": "python",
   "nbconvert_exporter": "python",
   "pygments_lexer": "ipython3",
   "version": "3.6.9"
  }
 },
 "nbformat": 4,
 "nbformat_minor": 4
}
